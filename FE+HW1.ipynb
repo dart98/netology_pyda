{
 "cells": [
  {
   "cell_type": "code",
   "execution_count": 1,
   "metadata": {},
   "outputs": [],
   "source": [
    "import numpy as np\n",
    "import pandas as pd\n",
    "\n",
    "from sklearn.linear_model import LinearRegression"
   ]
  },
  {
   "cell_type": "code",
   "execution_count": 26,
   "metadata": {},
   "outputs": [
    {
     "data": {
      "text/html": [
       "<div>\n",
       "<style scoped>\n",
       "    .dataframe tbody tr th:only-of-type {\n",
       "        vertical-align: middle;\n",
       "    }\n",
       "\n",
       "    .dataframe tbody tr th {\n",
       "        vertical-align: top;\n",
       "    }\n",
       "\n",
       "    .dataframe thead th {\n",
       "        text-align: right;\n",
       "    }\n",
       "</style>\n",
       "<table border=\"1\" class=\"dataframe\">\n",
       "  <thead>\n",
       "    <tr style=\"text-align: right;\">\n",
       "      <th></th>\n",
       "      <th>number_of_floors</th>\n",
       "      <th>apartments</th>\n",
       "      <th>concrete_price</th>\n",
       "      <th>employees</th>\n",
       "      <th>salary</th>\n",
       "      <th>build_price</th>\n",
       "    </tr>\n",
       "  </thead>\n",
       "  <tbody>\n",
       "    <tr>\n",
       "      <th>0</th>\n",
       "      <td>46</td>\n",
       "      <td>2</td>\n",
       "      <td>2338</td>\n",
       "      <td>30</td>\n",
       "      <td>61247</td>\n",
       "      <td>1944958</td>\n",
       "    </tr>\n",
       "    <tr>\n",
       "      <th>1</th>\n",
       "      <td>48</td>\n",
       "      <td>1</td>\n",
       "      <td>2478</td>\n",
       "      <td>24</td>\n",
       "      <td>36546</td>\n",
       "      <td>996048</td>\n",
       "    </tr>\n",
       "    <tr>\n",
       "      <th>2</th>\n",
       "      <td>30</td>\n",
       "      <td>1</td>\n",
       "      <td>2356</td>\n",
       "      <td>5</td>\n",
       "      <td>47658</td>\n",
       "      <td>308970</td>\n",
       "    </tr>\n",
       "    <tr>\n",
       "      <th>3</th>\n",
       "      <td>7</td>\n",
       "      <td>1</td>\n",
       "      <td>2288</td>\n",
       "      <td>33</td>\n",
       "      <td>45266</td>\n",
       "      <td>1509794</td>\n",
       "    </tr>\n",
       "    <tr>\n",
       "      <th>4</th>\n",
       "      <td>41</td>\n",
       "      <td>2</td>\n",
       "      <td>2023</td>\n",
       "      <td>19</td>\n",
       "      <td>56871</td>\n",
       "      <td>1163492</td>\n",
       "    </tr>\n",
       "  </tbody>\n",
       "</table>\n",
       "</div>"
      ],
      "text/plain": [
       "   number_of_floors  apartments  concrete_price  employees  salary  \\\n",
       "0                46           2            2338         30   61247   \n",
       "1                48           1            2478         24   36546   \n",
       "2                30           1            2356          5   47658   \n",
       "3                 7           1            2288         33   45266   \n",
       "4                41           2            2023         19   56871   \n",
       "\n",
       "   build_price  \n",
       "0      1944958  \n",
       "1       996048  \n",
       "2       308970  \n",
       "3      1509794  \n",
       "4      1163492  "
      ]
     },
     "execution_count": 26,
     "metadata": {},
     "output_type": "execute_result"
    }
   ],
   "source": [
    "# Создаём сэмпл\n",
    "n_samples = 500\n",
    "\n",
    "number_of_floors = np.random.choice(50, n_samples) + 1\n",
    "apartments = np.random.choice(4, n_samples) + 1\n",
    "concrete_price = np.random.choice(600, n_samples) + 2000\n",
    "employees = np.random.choice(30, n_samples) + 5\n",
    "salary = np.random.choice(50000, n_samples) + 20000\n",
    "\n",
    "build_price = concrete_price * number_of_floors + employees * salary\n",
    "\n",
    "data = pd.DataFrame({'number_of_floors': number_of_floors, 'apartments': apartments, 'concrete_price': concrete_price, 'employees': employees, 'salary': salary, 'build_price': build_price})\n",
    "data.head(5)"
   ]
  },
  {
   "cell_type": "code",
   "execution_count": 27,
   "metadata": {},
   "outputs": [
    {
     "name": "stdout",
     "output_type": "stream",
     "text": [
      "Weights: [ 2.67347278e+03 -8.42026990e+02  6.24056899e+01  4.50202904e+04\n",
      "  2.00074265e+01]\n",
      "Bias: -1052016.7651825265\n",
      "Error: 93751.33302300549\n"
     ]
    }
   ],
   "source": [
    "from sklearn.metrics import mean_absolute_error\n",
    "\n",
    "X = data[['number_of_floors', 'apartments', 'concrete_price', 'employees', 'salary']]\n",
    "y = data['build_price']\n",
    "reg = LinearRegression().fit(X, y)\n",
    "print('Weights: {}'.format(reg.coef_))\n",
    "print('Bias: {}'.format(reg.intercept_))\n",
    "\n",
    "pred_values = reg.predict(data[['number_of_floors', 'apartments', 'concrete_price', 'employees', 'salary']])\n",
    "print('Error: {}'.format(mean_absolute_error(pred_values, y)))"
   ]
  },
  {
   "cell_type": "code",
   "execution_count": 28,
   "metadata": {},
   "outputs": [
    {
     "name": "stdout",
     "output_type": "stream",
     "text": [
      "Weights: [2.67644982e+03 6.19088042e+01 4.50252496e+04 2.00100230e+01]\n",
      "Bias: -1053280.009867367\n",
      "Error: 93761.68753664473\n"
     ]
    }
   ],
   "source": [
    "X = data[['number_of_floors', 'concrete_price', 'employees', 'salary']]\n",
    "y = data['build_price']\n",
    "reg = LinearRegression().fit(X, y)\n",
    "print('Weights: {}'.format(reg.coef_))\n",
    "print('Bias: {}'.format(reg.intercept_))\n",
    "\n",
    "pred_values = reg.predict(data[['number_of_floors', 'concrete_price', 'employees', 'salary']])\n",
    "print('Error: {}'.format(mean_absolute_error(pred_values, y)))"
   ]
  },
  {
   "cell_type": "code",
   "execution_count": 29,
   "metadata": {},
   "outputs": [
    {
     "data": {
      "text/html": [
       "<div>\n",
       "<style scoped>\n",
       "    .dataframe tbody tr th:only-of-type {\n",
       "        vertical-align: middle;\n",
       "    }\n",
       "\n",
       "    .dataframe tbody tr th {\n",
       "        vertical-align: top;\n",
       "    }\n",
       "\n",
       "    .dataframe thead th {\n",
       "        text-align: right;\n",
       "    }\n",
       "</style>\n",
       "<table border=\"1\" class=\"dataframe\">\n",
       "  <thead>\n",
       "    <tr style=\"text-align: right;\">\n",
       "      <th></th>\n",
       "      <th>number_of_floors</th>\n",
       "      <th>apartments</th>\n",
       "      <th>concrete_price</th>\n",
       "      <th>employees</th>\n",
       "      <th>salary</th>\n",
       "      <th>build_price</th>\n",
       "      <th>mult1</th>\n",
       "      <th>mult2</th>\n",
       "    </tr>\n",
       "  </thead>\n",
       "  <tbody>\n",
       "    <tr>\n",
       "      <th>0</th>\n",
       "      <td>46</td>\n",
       "      <td>2</td>\n",
       "      <td>2338</td>\n",
       "      <td>30</td>\n",
       "      <td>61247</td>\n",
       "      <td>1944958</td>\n",
       "      <td>107548</td>\n",
       "      <td>1837410</td>\n",
       "    </tr>\n",
       "    <tr>\n",
       "      <th>1</th>\n",
       "      <td>48</td>\n",
       "      <td>1</td>\n",
       "      <td>2478</td>\n",
       "      <td>24</td>\n",
       "      <td>36546</td>\n",
       "      <td>996048</td>\n",
       "      <td>118944</td>\n",
       "      <td>877104</td>\n",
       "    </tr>\n",
       "    <tr>\n",
       "      <th>2</th>\n",
       "      <td>30</td>\n",
       "      <td>1</td>\n",
       "      <td>2356</td>\n",
       "      <td>5</td>\n",
       "      <td>47658</td>\n",
       "      <td>308970</td>\n",
       "      <td>70680</td>\n",
       "      <td>238290</td>\n",
       "    </tr>\n",
       "    <tr>\n",
       "      <th>3</th>\n",
       "      <td>7</td>\n",
       "      <td>1</td>\n",
       "      <td>2288</td>\n",
       "      <td>33</td>\n",
       "      <td>45266</td>\n",
       "      <td>1509794</td>\n",
       "      <td>16016</td>\n",
       "      <td>1493778</td>\n",
       "    </tr>\n",
       "    <tr>\n",
       "      <th>4</th>\n",
       "      <td>41</td>\n",
       "      <td>2</td>\n",
       "      <td>2023</td>\n",
       "      <td>19</td>\n",
       "      <td>56871</td>\n",
       "      <td>1163492</td>\n",
       "      <td>82943</td>\n",
       "      <td>1080549</td>\n",
       "    </tr>\n",
       "  </tbody>\n",
       "</table>\n",
       "</div>"
      ],
      "text/plain": [
       "   number_of_floors  apartments  concrete_price  employees  salary  \\\n",
       "0                46           2            2338         30   61247   \n",
       "1                48           1            2478         24   36546   \n",
       "2                30           1            2356          5   47658   \n",
       "3                 7           1            2288         33   45266   \n",
       "4                41           2            2023         19   56871   \n",
       "\n",
       "   build_price   mult1    mult2  \n",
       "0      1944958  107548  1837410  \n",
       "1       996048  118944   877104  \n",
       "2       308970   70680   238290  \n",
       "3      1509794   16016  1493778  \n",
       "4      1163492   82943  1080549  "
      ]
     },
     "execution_count": 29,
     "metadata": {},
     "output_type": "execute_result"
    }
   ],
   "source": [
    "# Создаем новый признак\n",
    "data['mult1'] = data['number_of_floors'] * data['concrete_price']\n",
    "data['mult2'] = data['employees'] * data['salary']\n",
    "data.head(5)"
   ]
  },
  {
   "cell_type": "code",
   "execution_count": 30,
   "metadata": {},
   "outputs": [
    {
     "name": "stdout",
     "output_type": "stream",
     "text": [
      "Weights: [1. 1.]\n",
      "Bias: 1.1641532182693481e-10\n",
      "Error: 2.316664904356003e-11\n"
     ]
    }
   ],
   "source": [
    "X = data[['mult1', 'mult2']]\n",
    "y = data['build_price']\n",
    "reg = LinearRegression().fit(X, y)\n",
    "print('Weights: {}'.format(reg.coef_))\n",
    "print('Bias: {}'.format(reg.intercept_))\n",
    "\n",
    "pred_values = reg.predict(data[['mult1', 'mult2']])\n",
    "print('Error: {}'.format(mean_absolute_error(pred_values, y)))"
   ]
  },
  {
   "cell_type": "code",
   "execution_count": null,
   "metadata": {},
   "outputs": [],
   "source": []
  }
 ],
 "metadata": {
  "kernelspec": {
   "display_name": "Python 3",
   "language": "python",
   "name": "python3"
  },
  "language_info": {
   "codemirror_mode": {
    "name": "ipython",
    "version": 3
   },
   "file_extension": ".py",
   "mimetype": "text/x-python",
   "name": "python",
   "nbconvert_exporter": "python",
   "pygments_lexer": "ipython3",
   "version": "3.7.3"
  }
 },
 "nbformat": 4,
 "nbformat_minor": 2
}

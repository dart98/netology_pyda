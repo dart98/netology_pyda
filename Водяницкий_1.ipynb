{
 "cells": [
  {
   "cell_type": "markdown",
   "metadata": {},
   "source": [
    "**Задание 1**. Даны 2 строки: *long_phrase* и *short_phrase*. \n",
    "Напишите код, который проверяет действительно ли длинная фраза *long_phrase* длиннее короткой *short_phrase*. И выводит *True* или *False* в зависимости от результата сравнения."
   ]
  },
  {
   "cell_type": "code",
   "execution_count": 2,
   "metadata": {},
   "outputs": [],
   "source": [
    "long_phrase = 'Насколько проще было бы писать программы, если бы не заказчики'\n",
    "short_phrase = '640Кб должно хватить для любых задач. Билл Гейтс (по легенде)'"
   ]
  },
  {
   "cell_type": "code",
   "execution_count": 3,
   "metadata": {},
   "outputs": [
    {
     "data": {
      "text/plain": [
       "True"
      ]
     },
     "execution_count": 3,
     "metadata": {},
     "output_type": "execute_result"
    }
   ],
   "source": [
    "len(long_phrase)>len(short_phrase)"
   ]
  },
  {
   "cell_type": "markdown",
   "metadata": {},
   "source": [
    "**Задание 2**. Дано значение объема файла в байтах. Напишите перевод этого значения в мегабайты в формате: \"*Объем файла равен 213.68Mb*\""
   ]
  },
  {
   "cell_type": "code",
   "execution_count": 7,
   "metadata": {},
   "outputs": [
    {
     "name": "stdout",
     "output_type": "stream",
     "text": [
      "Введи объем файла в байтах 23456789\n",
      "Объем файла равен  22.370137214660645 Mb\n"
     ]
    }
   ],
   "source": [
    "b = int(input('Введи объем файла в байтах '))\n",
    "a = b/(2**20)\n",
    "print('Объем файла равен ',a,'Mb')"
   ]
  },
  {
   "cell_type": "markdown",
   "metadata": {},
   "source": [
    "**Задание 3**. Разработать приложение для определения знака зодиака по дате рождения. Пример:\n",
    "\n",
    "Введите месяц: март\n",
    "\n",
    "Введите число: 6\n",
    "\n",
    "Вывод:\n",
    "Рыбы"
   ]
  },
  {
   "cell_type": "code",
   "execution_count": 14,
   "metadata": {},
   "outputs": [
    {
     "name": "stdout",
     "output_type": "stream",
     "text": [
      "Введите месяц август\n",
      "Введите число 29\n",
      "Дева\n"
     ]
    }
   ],
   "source": [
    "month = input('Введите месяц ')\n",
    "day = int(input('Введите число '))\n",
    "if month == 'март':\n",
    "    if day > 20 and day < 32:\n",
    "        print('Овен')\n",
    "    elif day > 0 and day < 21:\n",
    "        print('Рыбы')\n",
    "    else:\n",
    "        print('Такой даты нет')\n",
    "elif month == 'апрель':\n",
    "    if day > 20 and day < 31:\n",
    "        print('Телец')\n",
    "    elif day > 0 and day < 21:\n",
    "        print('Овен')\n",
    "    else:\n",
    "        print('Такой даты нет')\n",
    "elif month == 'май':\n",
    "    if day > 21 and day < 32:\n",
    "        print('Близнецы')\n",
    "    elif day > 0 and day < 22:\n",
    "        print('Телец')\n",
    "    else:\n",
    "        print('Такой даты нет')\n",
    "elif month == 'июнь':\n",
    "    if day > 21 and day < 31:\n",
    "        print('Рак')\n",
    "    elif day > 0 and day < 22:\n",
    "        print('Близнецы')\n",
    "    else:\n",
    "        print('Такой даты нет')\n",
    "elif month == 'июль':\n",
    "    if day > 23 and day < 32:\n",
    "        print('Лев')\n",
    "    elif day > 0 and day < 24:\n",
    "        print('Рак')\n",
    "    else:\n",
    "        print('Такой даты нет')\n",
    "elif month == 'август':\n",
    "    if day > 23 and day < 32:\n",
    "        print('Дева')\n",
    "    elif day > 0 and day < 24:\n",
    "        print('Лев')\n",
    "    else:\n",
    "        print('Такой даты нет')\n",
    "elif month == 'сентябрь':\n",
    "    if day > 23 and day < 31:\n",
    "        print('Весы')\n",
    "    elif day > 0 and day < 24:\n",
    "        print('Дева')\n",
    "    else:\n",
    "        print('Такой даты нет')\n",
    "elif month == 'октябрь':\n",
    "    if day > 23 and day < 32:\n",
    "        print('Скорпион')\n",
    "    elif day > 0 and day < 24:\n",
    "        print('Весы')\n",
    "    else:\n",
    "        print('Такой даты нет')\n",
    "elif month == 'ноябрь':\n",
    "    if day > 22 and day < 31:\n",
    "        print('Стрелец')\n",
    "    elif day > 0 and day < 23:\n",
    "        print('Скорпион')\n",
    "    else:\n",
    "        print('Такой даты нет')\n",
    "elif month == 'декабрь':\n",
    "    if day > 21 and day < 32:\n",
    "        print('Козерог')\n",
    "    elif day > 0 and day < 22:\n",
    "        print('Стрелец')\n",
    "    else:\n",
    "        print('Такой даты нет')\n",
    "elif month == 'январь':\n",
    "    if day > 20 and day < 32:\n",
    "        print('Водолей')\n",
    "    elif day > 0 and day < 21:\n",
    "        print('Козерог')\n",
    "    else:\n",
    "        print('Такой даты нет')\n",
    "elif month == 'февраль':\n",
    "    if day > 20 and day < 29:\n",
    "        print('Рыбы')\n",
    "    elif day > 0 and day < 21:\n",
    "        print('Водолей')\n",
    "    else:\n",
    "        print('Такой даты нет')\n",
    "        \n",
    "        \n",
    "\n",
    "\n",
    "\n"
   ]
  },
  {
   "cell_type": "markdown",
   "metadata": {},
   "source": [
    "**Задание 4**. Нужно разработать приложение для финансового планирования.\n",
    "Приложение учитывает сколько уходит на ипотеку, \"на жизнь\" и сколько нужно отложить на пенсию.\n",
    "Пользователь вводит:\n",
    "- заработанную плату в месяц.\n",
    "- сколько процентов от ЗП уходит на ипотеку.\n",
    "- сколько процентов от ЗП уходит \"на жизнь\".\n",
    "- сколько раз приходит премия в год.\n",
    "\n",
    "Остальная часть заработанной платы откладывается на пенсию.\n",
    "\n",
    "Также пользователю приходит премия в размере зарплаты, от которой половина уходит на отпуск, а вторая половина откладывается.\n",
    "\n",
    "Программа должна учитывать сколько премий было в год.\n",
    "\n",
    "Нужно вывести сколько денег тратит пользователь на ипотеку и сколько он накопит за год.\n",
    "\n",
    "Пример:\n",
    "\n",
    "Введите заработанную плату в месяц: 100000\n",
    "\n",
    "Введите сколько процентов уходит на ипотеку: 30\n",
    "\n",
    "Введите сколько процентов уходит на жизнь: 50\n",
    "\n",
    "Введите количество премий за год: 2\n",
    "\n",
    "Вывод:\n",
    "На ипотеку было потрачено: 360000 рублей\n",
    "Было накоплено: 340000 рублей"
   ]
  },
  {
   "cell_type": "code",
   "execution_count": 20,
   "metadata": {},
   "outputs": [
    {
     "name": "stdout",
     "output_type": "stream",
     "text": [
      "Введите заработную плату в месяц: 100000\n",
      "Введите сколько процентов уходит на ипотеку: 30\n",
      "Введите сколько процентов уходит на жизнь: 50\n",
      "Введите количество премий за год: 2\n",
      "На ипотеку было потрачено 360000.0 рублей Было накоплено: 340000.0 рублей\n"
     ]
    }
   ],
   "source": [
    "salary = int(input('Введите заработную плату в месяц: '))\n",
    "percent_mortgage = int(input('Введите сколько процентов уходит на ипотеку: '))\n",
    "life = int(input('Введите сколько процентов уходит на жизнь: '))\n",
    "prize = int(input('Введите количество премий за год: '))\n",
    "piggy = 12*salary*(100-(percent_mortgage+life))/100+(salary*prize/2)\n",
    "mortgage = 12*salary*(percent_mortgage/100)\n",
    "print('На ипотеку было потрачено', mortgage, 'рублей Было накоплено:', piggy, 'рублей')"
   ]
  }
 ],
 "metadata": {
  "kernelspec": {
   "display_name": "Python 3",
   "language": "python",
   "name": "python3"
  },
  "language_info": {
   "codemirror_mode": {
    "name": "ipython",
    "version": 3
   },
   "file_extension": ".py",
   "mimetype": "text/x-python",
   "name": "python",
   "nbconvert_exporter": "python",
   "pygments_lexer": "ipython3",
   "version": "3.7.3"
  }
 },
 "nbformat": 4,
 "nbformat_minor": 2
}
